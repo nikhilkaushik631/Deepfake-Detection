{
 "cells": [
  {
   "cell_type": "markdown",
   "metadata": {},
   "source": [
    "## Video Data Augmentation Script for Balancing Real and Fake Datasets"
   ]
  },
  {
   "cell_type": "markdown",
   "metadata": {},
   "source": [
    "### Import necessary libraries"
   ]
  },
  {
   "cell_type": "code",
   "execution_count": 1,
   "metadata": {},
   "outputs": [],
   "source": [
    "import os\n",
    "import cv2\n",
    "import random\n",
    "import numpy as np\n",
    "from tqdm import tqdm"
   ]
  },
  {
   "cell_type": "markdown",
   "metadata": {},
   "source": [
    "### Paths and Dataset Information"
   ]
  },
  {
   "cell_type": "code",
   "execution_count": null,
   "metadata": {},
   "outputs": [],
   "source": [
    "# Paths to real, fake, and output folders\n",
    "real_videos_path = 'path_to_real_videos_folder'\n",
    "fake_videos_path = 'path_to_fake_videos_folder'  # Reference only, no processing\n",
    "output_videos_path = 'path_to_output_folder'\n",
    "os.makedirs(output_videos_path, exist_ok=True)\n",
    "\n",
    "# Count real and fake videos\n",
    "real_videos = [f for f in os.listdir(real_videos_path) if f.endswith('.mp4')]\n",
    "fake_videos = [f for f in os.listdir(fake_videos_path) if f.endswith('.mp4')]\n",
    "augmentations_needed = len(fake_videos) - len(real_videos)\n",
    "\n",
    "print(f\"Number of real videos: {len(real_videos)}\")\n",
    "print(f\"Number of fake videos: {len(fake_videos)}\")\n",
    "print(f\"Augmentations needed: {augmentations_needed}\")"
   ]
  },
  {
   "cell_type": "markdown",
   "metadata": {},
   "source": [
    "### Define Augmentation Functions"
   ]
  },
  {
   "cell_type": "code",
   "execution_count": null,
   "metadata": {},
   "outputs": [],
   "source": [
    "\n",
    "def horizontal_flip(frame):\n",
    "    \"\"\"Flip the frame horizontally.\"\"\"\n",
    "    return cv2.flip(frame, 1)\n",
    "\n",
    "def random_rotation(frame):\n",
    "    \"\"\"Rotate the frame by a random angle between -15 and 15 degrees.\"\"\"\n",
    "    h, w = frame.shape[:2]\n",
    "    M = cv2.getRotationMatrix2D((w // 2, h // 2), random.uniform(-15, 15), 1.0)\n",
    "    return cv2.warpAffine(frame, M, (w, h))\n",
    "\n",
    "def random_brightness(frame):\n",
    "    \"\"\"Adjust brightness randomly.\"\"\"\n",
    "    hsv = cv2.cvtColor(frame, cv2.COLOR_BGR2HSV).astype(np.float64)\n",
    "    hsv[:, :, 2] = np.clip(hsv[:, :, 2] * random.uniform(0.6, 1.4), 0, 255)\n",
    "    return cv2.cvtColor(hsv.astype(np.uint8), cv2.COLOR_HSV2BGR)\n",
    "\n",
    "def random_contrast(frame):\n",
    "    \"\"\"Adjust contrast randomly.\"\"\"\n",
    "    return cv2.convertScaleAbs(frame, alpha=random.uniform(0.5, 1.5), beta=0)\n",
    "\n",
    "def add_gaussian_noise(frame):\n",
    "    \"\"\"Add Gaussian noise to the frame.\"\"\"\n",
    "    return np.clip(frame + np.random.normal(0, random.uniform(10, 30), frame.shape), 0, 255).astype(np.uint8)\n",
    "\n",
    "def gaussian_blur(frame):\n",
    "    \"\"\"Apply Gaussian blur with a random kernel size.\"\"\"\n",
    "    return cv2.GaussianBlur(frame, (random.choice([3, 5, 7]), random.choice([3, 5, 7])), 0)\n",
    "\n",
    "# List of augmentation functions\n",
    "augmentations = [horizontal_flip, random_rotation, random_brightness, random_contrast, add_gaussian_noise, gaussian_blur]"
   ]
  },
  {
   "cell_type": "markdown",
   "metadata": {},
   "source": [
    "### Process Video Function"
   ]
  },
  {
   "cell_type": "code",
   "execution_count": null,
   "metadata": {},
   "outputs": [],
   "source": [
    "def process_video(video_path, output_path, augment_list=[]):\n",
    "    \"\"\"Reads the video, applies augmentations (if any), and writes the output video.\"\"\"\n",
    "    cap = cv2.VideoCapture(video_path)\n",
    "    fourcc = cv2.VideoWriter_fourcc(*'mp4v')\n",
    "    out = cv2.VideoWriter(output_path, fourcc, cap.get(cv2.CAP_PROP_FPS),\n",
    "                          (int(cap.get(cv2.CAP_PROP_FRAME_WIDTH)), int(cap.get(cv2.CAP_PROP_FRAME_HEIGHT))))\n",
    "    \n",
    "    while cap.isOpened():\n",
    "        ret, frame = cap.read()\n",
    "        if not ret: break\n",
    "        \n",
    "        # Apply chosen augmentations\n",
    "        for aug in augment_list:\n",
    "            frame = aug(frame)\n",
    "        \n",
    "        out.write(frame)\n",
    "    \n",
    "    cap.release(), out.release()"
   ]
  },
  {
   "cell_type": "markdown",
   "metadata": {},
   "source": [
    "### Apply Augmentations to Real Videos"
   ]
  },
  {
   "cell_type": "code",
   "execution_count": null,
   "metadata": {},
   "outputs": [],
   "source": [
    "\n",
    "augmentations_per_video = augmentations_needed // len(real_videos)\n",
    "augmented_count = 0  \n",
    "\n",
    "for video in tqdm(real_videos):\n",
    "    video_path = video\n",
    "    video_aug_count = 0 \n",
    "    process_video(video_path, os.path.join(output_videos_path, os.path.basename(video)))\n",
    "\n",
    "    while video_aug_count < augmentations_per_video:\n",
    "        aug_choices = random.sample(augmentations, random.randint(1, 3))\n",
    "        aug_video_path = os.path.join(output_videos_path, f\"aug_{augmented_count}_{os.path.basename(video)}\")\n",
    "        process_video(video_path, aug_video_path, aug_choices)\n",
    "        video_aug_count += 1\n",
    "        augmented_count += 1\n",
    "\n",
    "# Handle remaining augmentations if division isn't even\n",
    "remaining = augmentations_needed - augmented_count\n",
    "if remaining > 0:\n",
    "    print(f\"Distributing remaining {remaining} augmentations randomly\")\n",
    "    for i in range(remaining):\n",
    "        video_path = random.choice(real_videos)  \n",
    "        aug_choices = random.sample(augmentations, random.randint(1, 3))\n",
    "        aug_video_path = os.path.join(output_videos_path, f\"aug_{augmented_count}_{os.path.basename(video_path)}\")\n",
    "        process_video(video_path, aug_video_path, aug_choices)\n",
    "        augmented_count += 1\n",
    "\n",
    "print(f\"Augmentation complete. Total augmented videos: {augmented_count}\")\n",
    "print(f\"Original videos: {len(real_videos)}\")\n",
    "print(f\"Total dataset size: {len(real_videos) + augmented_count}\")"
   ]
  }
 ],
 "metadata": {
  "kernelspec": {
   "display_name": "Python 3",
   "language": "python",
   "name": "python3"
  },
  "language_info": {
   "codemirror_mode": {
    "name": "ipython",
    "version": 3
   },
   "file_extension": ".py",
   "mimetype": "text/x-python",
   "name": "python",
   "nbconvert_exporter": "python",
   "pygments_lexer": "ipython3",
   "version": "3.12.6"
  }
 },
 "nbformat": 4,
 "nbformat_minor": 2
}
